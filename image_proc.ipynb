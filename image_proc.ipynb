{
 "cells": [
  {
   "cell_type": "code",
   "execution_count": 1,
   "metadata": {},
   "outputs": [
    {
     "name": "stdout",
     "output_type": "stream",
     "text": [
      "it works\n"
     ]
    }
   ],
   "source": [
    "OPENSLIDE_PATH = r'C:/Users/Arist/Downloads/openslide-bin-4.0.0.3-windows-x64/openslide-bin-4.0.0.3-windows-x64/bin'\n",
    "\n",
    "import os\n",
    "if hasattr(os, 'add_dll_directory'):\n",
    "    # Windows\n",
    "    with os.add_dll_directory(OPENSLIDE_PATH):\n",
    "        print('it works')\n",
    "        import openslide\n",
    "else:\n",
    "    import openslide"
   ]
  },
  {
   "cell_type": "code",
   "execution_count": 2,
   "metadata": {},
   "outputs": [],
   "source": [
    "import py_wsi\n",
    "import py_wsi.imagepy_toolkit as tk"
   ]
  },
  {
   "cell_type": "code",
   "execution_count": 3,
   "metadata": {},
   "outputs": [],
   "source": [
    "file_dir = \"C:/Users/Arist/OneDrive/Skrivebord/Patch_making/py-wsi/test_files/\"\n",
    "db_location = \"/Users/Arist/OneDrive/Skrivebord/Patch_making/py-wsi/dataset/\" # where the patches will be stored\n",
    "xml_dir = file_dir # if you want you can store the XML another place\n",
    "patch_size = 1024\n",
    "level = 13 # level of soom, I think 18 is max\n",
    "db_name = \"dataset\" # don't really know what this is for\n",
    "overlap = 0 # how much overlap between the patches\n",
    "\n",
    "# For best viewer performance, tile_size + 2 * overlap should be a power of two.\n",
    "\n",
    "# All possible labels mapped to integer ids in order of increasing severity.\n",
    "# This doesn't really matter for us, because we don't have labels\n",
    "\n",
    "# [WSI_file_name]_[x_tile_coord]_[y_tile_coord]_[label].png"
   ]
  },
  {
   "cell_type": "code",
   "execution_count": 4,
   "metadata": {},
   "outputs": [
    {
     "name": "stdout",
     "output_type": "stream",
     "text": [
      "======================================================\n",
      "Storage type:               disk\n",
      "Images directory:           C:/Users/Arist/OneDrive/Skrivebord/Patch_making/py-wsi/test_files/\n",
      "Data store directory:       /Users/Arist/OneDrive/Skrivebord/Patch_making/py-wsi/dataset/\n",
      "Images found:               1\n",
      "======================================================\n"
     ]
    }
   ],
   "source": [
    "turtle = py_wsi.Turtle(file_dir, db_location, db_name, xml_dir=xml_dir, storage_type='disk')"
   ]
  },
  {
   "cell_type": "code",
   "execution_count": 5,
   "metadata": {},
   "outputs": [
    {
     "name": "stdout",
     "output_type": "stream",
     "text": [
      "RECHERCHE-003.svs <class 'openslide.ImageSlide'>\n",
      "py_wsi error: provided label Normal not present in label map.\n",
      "Setting label as -1 for UNRECOGNISED LABEL.\n",
      "{}\n",
      "py_wsi error: provided label Normal not present in label map.\n",
      "Setting label as -1 for UNRECOGNISED LABEL.\n",
      "{}\n",
      "py_wsi error: provided label Normal not present in label map.\n",
      "Setting label as -1 for UNRECOGNISED LABEL.\n",
      "{}\n",
      "py_wsi error: provided label Normal not present in label map.\n",
      "Setting label as -1 for UNRECOGNISED LABEL.\n",
      "{}\n",
      "py_wsi error: provided label Normal not present in label map.\n",
      "Setting label as -1 for UNRECOGNISED LABEL.\n",
      "{}\n",
      "py_wsi error: provided label Normal not present in label map.\n",
      "Setting label as -1 for UNRECOGNISED LABEL.\n",
      "{}\n",
      "py_wsi error: provided label Normal not present in label map.\n",
      "Setting label as -1 for UNRECOGNISED LABEL.\n",
      "{}\n",
      "py_wsi error: provided label Normal not present in label map.\n",
      "Setting label as -1 for UNRECOGNISED LABEL.\n",
      "{}\n",
      "py_wsi error: provided label Normal not present in label map.\n",
      "Setting label as -1 for UNRECOGNISED LABEL.\n",
      "{}\n",
      "py_wsi error: provided label Normal not present in label map.\n",
      "Setting label as -1 for UNRECOGNISED LABEL.\n",
      "{}\n",
      "py_wsi error: provided label Normal not present in label map.\n",
      "Setting label as -1 for UNRECOGNISED LABEL.\n",
      "{}\n",
      "py_wsi error: provided label Normal not present in label map.\n",
      "Setting label as -1 for UNRECOGNISED LABEL.\n",
      "{}\n",
      "py_wsi error: provided label Normal not present in label map.\n",
      "Setting label as -1 for UNRECOGNISED LABEL.\n",
      "{}\n",
      "py_wsi error: provided label Normal not present in label map.\n",
      "Setting label as -1 for UNRECOGNISED LABEL.\n",
      "{}\n",
      "py_wsi error: provided label Normal not present in label map.\n",
      "Setting label as -1 for UNRECOGNISED LABEL.\n",
      "{}\n",
      "py_wsi error: provided label Normal not present in label map.\n",
      "Setting label as -1 for UNRECOGNISED LABEL.\n",
      "{}\n",
      "py_wsi error: provided label Normal not present in label map.\n",
      "Setting label as -1 for UNRECOGNISED LABEL.\n",
      "{}\n",
      "py_wsi error: provided label Normal not present in label map.\n",
      "Setting label as -1 for UNRECOGNISED LABEL.\n",
      "{}\n",
      "py_wsi error: provided label Normal not present in label map.\n",
      "Setting label as -1 for UNRECOGNISED LABEL.\n",
      "{}\n",
      "py_wsi error: provided label Normal not present in label map.\n",
      "Setting label as -1 for UNRECOGNISED LABEL.\n",
      "{}\n",
      "py_wsi error: provided label Normal not present in label map.\n",
      "Setting label as -1 for UNRECOGNISED LABEL.\n",
      "{}\n",
      "Directory '/Users/Arist/OneDrive/Skrivebord/Patch_making/py-wsi/dataset/RECHERCHE-003' created successfully\n",
      "Directory '/Users/Arist/OneDrive/Skrivebord/Patch_making/py-wsi/dataset/RECHERCHE-003\\labels' created successfully\n",
      "\n",
      "============ Patches Dataset Stats ===========\n",
      "Total patches sampled:                     21\n",
      "Patches saved to:                          /Users/Arist/OneDrive/Skrivebord/Patch_making/py-wsi/dataset/\n",
      "Patches saved with prefix:                 dataset\n",
      "\n",
      "Time usage: 0:01:20\n"
     ]
    }
   ],
   "source": [
    "turtle.sample_and_store_patches(patch_size, level, overlap, load_xml=True, limit_bounds=True)"
   ]
  },
  {
   "cell_type": "code",
   "execution_count": 5,
   "metadata": {},
   "outputs": [
    {
     "name": "stdout",
     "output_type": "stream",
     "text": [
      "[py-wsi] loaded 21 patches from RECHERCHE-003\n"
     ]
    }
   ],
   "source": [
    "# Don't really know if we need this functionality\n",
    "#patches, coords, classes, labels = turtle.get_patches_from_file(\"RECHERCHE-003.svs\", 'patches', verbose=True)"
   ]
  },
  {
   "cell_type": "code",
   "execution_count": 17,
   "metadata": {},
   "outputs": [
    {
     "ename": "TypeError",
     "evalue": "show_labeled_patches() missing 1 required positional argument: 'clss'",
     "output_type": "error",
     "traceback": [
      "\u001b[1;31m---------------------------------------------------------------------------\u001b[0m",
      "\u001b[1;31mTypeError\u001b[0m                                 Traceback (most recent call last)",
      "Cell \u001b[1;32mIn [17], line 1\u001b[0m\n\u001b[1;32m----> 1\u001b[0m \u001b[43mtk\u001b[49m\u001b[38;5;241;43m.\u001b[39;49m\u001b[43mshow_labeled_patches\u001b[49m\u001b[43m(\u001b[49m\u001b[43mpatches\u001b[49m\u001b[43m[\u001b[49m\u001b[43m:\u001b[49m\u001b[38;5;241;43m20\u001b[39;49m\u001b[43m]\u001b[49m\u001b[43m)\u001b[49m\n",
      "\u001b[1;31mTypeError\u001b[0m: show_labeled_patches() missing 1 required positional argument: 'clss'"
     ]
    }
   ],
   "source": [
    "#tk.show_labeled_patches(patches[:20])"
   ]
  }
 ],
 "metadata": {
  "kernelspec": {
   "display_name": "venv",
   "language": "python",
   "name": "python3"
  },
  "language_info": {
   "codemirror_mode": {
    "name": "ipython",
    "version": 3
   },
   "file_extension": ".py",
   "mimetype": "text/x-python",
   "name": "python",
   "nbconvert_exporter": "python",
   "pygments_lexer": "ipython3",
   "version": "3.11.0"
  }
 },
 "nbformat": 4,
 "nbformat_minor": 2
}
