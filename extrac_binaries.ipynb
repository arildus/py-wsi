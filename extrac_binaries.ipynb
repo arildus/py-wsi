{
 "cells": [
  {
   "cell_type": "code",
   "execution_count": 1,
   "metadata": {},
   "outputs": [
    {
     "name": "stdout",
     "output_type": "stream",
     "text": [
      "yes\n"
     ]
    }
   ],
   "source": [
    "OPENSLIDE_PATH = r'C:/Users/Arist/Downloads/openslide-bin-4.0.0.3-windows-x64/openslide-bin-4.0.0.3-windows-x64/bin'\n",
    "\n",
    "import os\n",
    "if hasattr(os, 'add_dll_directory'):\n",
    "    # Windows\n",
    "    with os.add_dll_directory(OPENSLIDE_PATH):\n",
    "        print('yes')\n",
    "        import openslide\n",
    "else:\n",
    "    import openslide\n",
    "\n",
    "import xml.etree.ElementTree as ET\n",
    "import numpy as np\n",
    "from PIL import Image, ImageDraw\n",
    "import math\n",
    "import cv2"
   ]
  },
  {
   "cell_type": "code",
   "execution_count": 10,
   "metadata": {},
   "outputs": [],
   "source": [
    "def create_binary_mask(annotation_file, dimensions):\n",
    "    # Load WSI image\n",
    "    mask_width, mask_height = dimensions\n",
    "\n",
    "    # Create a blank mask\n",
    "    mask = np.zeros((mask_height, mask_width), dtype=np.uint8)\n",
    "\n",
    "    # Parse annotation XML file\n",
    "    tree = ET.parse(annotation_file)\n",
    "    root = tree.getroot()\n",
    "\n",
    "    # Loop through annotations\n",
    "    for annotation in root.findall('.//Annotation'):\n",
    "        coords = []\n",
    "        for coord in annotation.findall('.//Coordinate'):\n",
    "            x = float(coord.attrib['X'])\n",
    "            y = float(coord.attrib['Y'])\n",
    "            # Convert coordinates to image space\n",
    "            x_img = int(x)\n",
    "            y_img = int(y)\n",
    "            coords.append((x_img, y_img))\n",
    "        # Convert coords list to array\n",
    "        pts = np.array(coords, np.int32)\n",
    "        pts = pts.reshape((-1, 1, 2))\n",
    "        # Draw filled polygon\n",
    "        cv2.fillPoly(mask, [pts], 255)\n",
    "\n",
    "    return mask"
   ]
  },
  {
   "cell_type": "code",
   "execution_count": 11,
   "metadata": {},
   "outputs": [],
   "source": [
    "# Example usage\n",
    "annotation_file = 'test_files/RECHERCHE-003.xml'\n",
    "wsi_file = 'test_files/RECHERCHE-003.svs'\n",
    "#binary_mask = create_binary_mask(annotation_file, wsi_file)"
   ]
  },
  {
   "cell_type": "code",
   "execution_count": 12,
   "metadata": {},
   "outputs": [],
   "source": [
    "annotation_file = 'test_files/RECHERCHE-003.xml'\n",
    "slide = openslide.OpenSlide(wsi_file)\n",
    "dim = slide.dimensions\n",
    "mask = create_binary_mask(annotation_file, dim)"
   ]
  },
  {
   "cell_type": "code",
   "execution_count": 13,
   "metadata": {},
   "outputs": [],
   "source": [
    "im = Image.fromarray(mask, 'L')\n",
    "im = im.resize((int(dim[0]/2.0), int(dim[1]/2.0)), Image.Resampling.NEAREST)\n",
    "im.show()"
   ]
  },
  {
   "cell_type": "code",
   "execution_count": 15,
   "metadata": {},
   "outputs": [
    {
     "data": {
      "text/plain": [
       "39612937"
      ]
     },
     "execution_count": 15,
     "metadata": {},
     "output_type": "execute_result"
    }
   ],
   "source": [
    "num_ones = np.count_nonzero(mask)\n",
    "num_ones"
   ]
  },
  {
   "cell_type": "code",
   "execution_count": 11,
   "metadata": {},
   "outputs": [
    {
     "data": {
      "text/plain": [
       "6856053565"
      ]
     },
     "execution_count": 11,
     "metadata": {},
     "output_type": "execute_result"
    }
   ],
   "source": [
    "s = mask.shape[0]*mask.shape[1]\n",
    "num_zero = s - num_ones\n",
    "num_zero"
   ]
  }
 ],
 "metadata": {
  "kernelspec": {
   "display_name": "Python 3",
   "language": "python",
   "name": "python3"
  },
  "language_info": {
   "codemirror_mode": {
    "name": "ipython",
    "version": 3
   },
   "file_extension": ".py",
   "mimetype": "text/x-python",
   "name": "python",
   "nbconvert_exporter": "python",
   "pygments_lexer": "ipython3",
   "version": "3.11.0"
  }
 },
 "nbformat": 4,
 "nbformat_minor": 2
}
