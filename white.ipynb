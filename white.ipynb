{
 "cells": [
  {
   "cell_type": "code",
   "execution_count": 1,
   "metadata": {},
   "outputs": [],
   "source": [
    "import cv2\n",
    "import numpy as np\n",
    "import os"
   ]
  },
  {
   "cell_type": "code",
   "execution_count": 2,
   "metadata": {},
   "outputs": [],
   "source": [
    "def is_mostly_white(patch, total_pixels, thresh=0.97):\n",
    "    # Convert patch to grayscale\n",
    "    gray = cv2.cvtColor(patch, cv2.COLOR_BGR2GRAY)\n",
    "\n",
    "    # How \"white\" the pixel must be to be considered as background\n",
    "    # 231 seems to be the best value, based on experiments\n",
    "    background_thresh = 231\n",
    "    \n",
    "    # Threshold the patch to separate background from tissue\n",
    "    _, binary_mask = cv2.threshold(gray, background_thresh, 255, cv2.THRESH_BINARY)\n",
    "    \n",
    "    # Calculate the percentage of white pixels\n",
    "    white_pixels = cv2.countNonZero(binary_mask)\n",
    "    white_percentage = white_pixels / total_pixels\n",
    "\n",
    "    # Print for debugging\n",
    "    #print(\"White pixels:\", white_pixels)\n",
    "    #print(\"Total pixels:\", total_pixels)\n",
    "    #print(\"White percentage:\", white_percentage)\n",
    "    #print(\"Background threshold:\", background_thresh)\n",
    "    \n",
    "    # Return True if white percentage is above threshold\n",
    "    return white_percentage > thresh\n"
   ]
  },
  {
   "cell_type": "code",
   "execution_count": 3,
   "metadata": {},
   "outputs": [],
   "source": [
    "input_folder = \"dataset/RECHERCHE-003/patches/\"\n",
    "output_folder_white = \"dataset/RECHERCHE-003/white/\"\n",
    "output_folder_non_white = \"dataset/RECHERCHE-003/non_white/\""
   ]
  },
  {
   "cell_type": "code",
   "execution_count": 5,
   "metadata": {},
   "outputs": [
    {
     "ename": "error",
     "evalue": "OpenCV(4.9.0) D:\\a\\opencv-python\\opencv-python\\opencv\\modules\\imgproc\\src\\color.cpp:196: error: (-215:Assertion failed) !_src.empty() in function 'cv::cvtColor'\n",
     "output_type": "error",
     "traceback": [
      "\u001b[1;31m---------------------------------------------------------------------------\u001b[0m",
      "\u001b[1;31merror\u001b[0m                                     Traceback (most recent call last)",
      "Cell \u001b[1;32mIn [5], line 9\u001b[0m\n\u001b[0;32m      5\u001b[0m patch \u001b[38;5;241m=\u001b[39m cv2\u001b[38;5;241m.\u001b[39mimread(not_white)\n\u001b[0;32m      7\u001b[0m thresh \u001b[38;5;241m=\u001b[39m \u001b[38;5;241m0.97\u001b[39m\n\u001b[1;32m----> 9\u001b[0m is_white \u001b[38;5;241m=\u001b[39m \u001b[43mis_mostly_white\u001b[49m\u001b[43m(\u001b[49m\u001b[43mpatch\u001b[49m\u001b[43m,\u001b[49m\u001b[43m \u001b[49m\u001b[38;5;241;43m512\u001b[39;49m\u001b[38;5;241;43m*\u001b[39;49m\u001b[38;5;241;43m*\u001b[39;49m\u001b[38;5;241;43m2\u001b[39;49m\u001b[43m,\u001b[49m\u001b[43m \u001b[49m\u001b[43mthresh\u001b[49m\u001b[43m)\u001b[49m\n\u001b[0;32m     10\u001b[0m \u001b[38;5;28mprint\u001b[39m(is_white)\n",
      "Cell \u001b[1;32mIn [2], line 3\u001b[0m, in \u001b[0;36mis_mostly_white\u001b[1;34m(patch, total_pixels, thresh)\u001b[0m\n\u001b[0;32m      1\u001b[0m \u001b[38;5;28;01mdef\u001b[39;00m \u001b[38;5;21mis_mostly_white\u001b[39m(patch, total_pixels, thresh\u001b[38;5;241m=\u001b[39m\u001b[38;5;241m0.97\u001b[39m):\n\u001b[0;32m      2\u001b[0m     \u001b[38;5;66;03m# Convert patch to grayscale\u001b[39;00m\n\u001b[1;32m----> 3\u001b[0m     gray \u001b[38;5;241m=\u001b[39m \u001b[43mcv2\u001b[49m\u001b[38;5;241;43m.\u001b[39;49m\u001b[43mcvtColor\u001b[49m\u001b[43m(\u001b[49m\u001b[43mpatch\u001b[49m\u001b[43m,\u001b[49m\u001b[43m \u001b[49m\u001b[43mcv2\u001b[49m\u001b[38;5;241;43m.\u001b[39;49m\u001b[43mCOLOR_BGR2GRAY\u001b[49m\u001b[43m)\u001b[49m\n\u001b[0;32m      5\u001b[0m     \u001b[38;5;66;03m# How \"white\" the pixel must be to be considered as background\u001b[39;00m\n\u001b[0;32m      6\u001b[0m     \u001b[38;5;66;03m# 241 seems to be the best value, based on experiments\u001b[39;00m\n\u001b[0;32m      7\u001b[0m     background_thresh \u001b[38;5;241m=\u001b[39m \u001b[38;5;241m231\u001b[39m\n",
      "\u001b[1;31merror\u001b[0m: OpenCV(4.9.0) D:\\a\\opencv-python\\opencv-python\\opencv\\modules\\imgproc\\src\\color.cpp:196: error: (-215:Assertion failed) !_src.empty() in function 'cv::cvtColor'\n"
     ]
    }
   ],
   "source": [
    "not_white = 'dataset/RECHERCHE-003/patches/RECHERCHE-003_5_1_-1.png'\n",
    "white = 'dataset/RECHERCHE-003/patches/RECHERCHE-003_26_14_-1.png'\n",
    "\n",
    "# Load the patch\n",
    "patch = cv2.imread(not_white)\n",
    "\n",
    "thresh = 0.97\n",
    "\n",
    "is_white = is_mostly_white(patch, 512**2, thresh)\n",
    "print(is_white)"
   ]
  },
  {
   "cell_type": "code",
   "execution_count": 7,
   "metadata": {},
   "outputs": [],
   "source": [
    "IMAGE_SIZE = 512\n",
    "\n",
    "# Create output folders if they don't exist\n",
    "os.makedirs(output_folder_white, exist_ok=True)\n",
    "os.makedirs(output_folder_non_white, exist_ok=True)\n",
    "\n",
    "# Check if each patch is mostly white\n",
    "for filename in os.listdir(input_folder):\n",
    "    if filename.endswith(\".png\"):\n",
    "        # Load the patch\n",
    "        patch = cv2.imread(os.path.join(input_folder, filename))\n",
    "        \n",
    "        if is_mostly_white(patch, IMAGE_SIZE**2):\n",
    "            # Save the mostly white patch to the output folder\n",
    "            cv2.imwrite(os.path.join(output_folder_white, filename), patch)\n",
    "        else:\n",
    "            # Save the non-white patch to the output folder\n",
    "            cv2.imwrite(os.path.join(output_folder_non_white, filename), patch)"
   ]
  }
 ],
 "metadata": {
  "kernelspec": {
   "display_name": "venv",
   "language": "python",
   "name": "python3"
  },
  "language_info": {
   "codemirror_mode": {
    "name": "ipython",
    "version": 3
   },
   "file_extension": ".py",
   "mimetype": "text/x-python",
   "name": "python",
   "nbconvert_exporter": "python",
   "pygments_lexer": "ipython3",
   "version": "3.11.0"
  }
 },
 "nbformat": 4,
 "nbformat_minor": 2
}
