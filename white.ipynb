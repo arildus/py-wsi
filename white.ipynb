{
 "cells": [
  {
   "cell_type": "code",
   "execution_count": 2,
   "metadata": {},
   "outputs": [],
   "source": [
    "import cv2\n",
    "import numpy as np\n",
    "import os"
   ]
  },
  {
   "cell_type": "code",
   "execution_count": 185,
   "metadata": {},
   "outputs": [],
   "source": [
    "def is_mostly_white(patch, total_pixels, thresh=0.97):\n",
    "    # Convert patch to grayscale\n",
    "    gray = cv2.cvtColor(patch, cv2.COLOR_BGR2GRAY)\n",
    "\n",
    "    # How \"white\" the pixel must be to be considered as background\n",
    "    # 241 seems to be the best value, based on experiments\n",
    "    background_thresh = 231\n",
    "    \n",
    "    # Threshold the patch to separate background from tissue\n",
    "    _, binary_mask = cv2.threshold(gray, background_thresh, 255, cv2.THRESH_BINARY)\n",
    "    \n",
    "    # Calculate the percentage of white pixels\n",
    "    white_pixels = cv2.countNonZero(binary_mask)\n",
    "    white_percentage = white_pixels / total_pixels\n",
    "\n",
    "    # Print for debugging\n",
    "    #print(\"White pixels:\", white_pixels)\n",
    "    #print(\"Total pixels:\", total_pixels)\n",
    "    #print(\"White percentage:\", white_percentage)\n",
    "    #print(\"Background threshold:\", background_thresh)\n",
    "    \n",
    "    # Return True if white percentage is above threshold\n",
    "    return white_percentage > thresh\n"
   ]
  },
  {
   "cell_type": "code",
   "execution_count": 114,
   "metadata": {},
   "outputs": [],
   "source": [
    "input_folder = \"dataset/RECHERCHE-003/patches/\"\n",
    "output_folder_white = \"dataset/RECHERCHE-003/white/\"\n",
    "output_folder_non_white = \"dataset/RECHERCHE-003/non_white/\""
   ]
  },
  {
   "cell_type": "code",
   "execution_count": 186,
   "metadata": {},
   "outputs": [
    {
     "name": "stdout",
     "output_type": "stream",
     "text": [
      "False\n"
     ]
    }
   ],
   "source": [
    "not_white = 'dataset/RECHERCHE-003/patches/RECHERCHE-003_5_1_-1.png'\n",
    "white = 'dataset/RECHERCHE-003/patches/RECHERCHE-003_26_14_-1.png'\n",
    "\n",
    "# Load the patch\n",
    "patch = cv2.imread(not_white)\n",
    "\n",
    "thresh = 0.97\n",
    "\n",
    "is_white = is_mostly_white(patch, 864**2, thresh)\n",
    "print(is_white)"
   ]
  },
  {
   "cell_type": "code",
   "execution_count": 187,
   "metadata": {},
   "outputs": [],
   "source": [
    "IMAGE_SIZE = 864\n",
    "\n",
    "# Create output folders if they don't exist\n",
    "os.makedirs(output_folder_white, exist_ok=True)\n",
    "os.makedirs(output_folder_non_white, exist_ok=True)\n",
    "\n",
    "# Check if each patch is mostly white\n",
    "for filename in os.listdir(input_folder):\n",
    "    if filename.endswith(\".png\"):\n",
    "        # Load the patch\n",
    "        patch = cv2.imread(os.path.join(input_folder, filename))\n",
    "        \n",
    "        if is_mostly_white(patch, IMAGE_SIZE**2):\n",
    "            # Save the mostly white patch to the output folder\n",
    "            cv2.imwrite(os.path.join(output_folder_white, filename), patch)\n",
    "        else:\n",
    "            # Save the non-white patch to the output folder\n",
    "            cv2.imwrite(os.path.join(output_folder_non_white, filename), patch)"
   ]
  }
 ],
 "metadata": {
  "kernelspec": {
   "display_name": "venv",
   "language": "python",
   "name": "python3"
  },
  "language_info": {
   "codemirror_mode": {
    "name": "ipython",
    "version": 3
   },
   "file_extension": ".py",
   "mimetype": "text/x-python",
   "name": "python",
   "nbconvert_exporter": "python",
   "pygments_lexer": "ipython3",
   "version": "3.11.0"
  }
 },
 "nbformat": 4,
 "nbformat_minor": 2
}
